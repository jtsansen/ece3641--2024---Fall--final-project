{
 "cells": [
  {
   "cell_type": "markdown",
   "metadata": {},
   "source": [
    "# Final Project\n",
    "## 1. Introduction\n",
    "*This project is a cumulative work that utilizes the various concepts of robotic manipulation, such as forward kinematics, inverse kinematics, Jacobians, and Python coding to achieve the successful movement of an ARMPI robot arm run by a Raspberry PI onboard computer. Within this paper are the methods and practices that were followed to set up the Linux environment for the ROS, or Robotic Operating System, as well as the mathematical derivations of how to calculate joint angles for the robot arm.*"
   ]
  },
  {
   "cell_type": "markdown",
   "metadata": {},
   "source": [
    "## 2. Data Loading and Preprocessing\n",
    "*Load the files and process it.*"
   ]
  },
  {
   "cell_type": "code",
   "execution_count": null,
   "metadata": {},
   "outputs": [],
   "source": [
    "#!/usr/bin/python3\n",
    "# coding=utf8\n",
    "# Date: 2022/06/30\n",
    "import sys\n",
    "import time\n",
    "import rospy\n",
    "from kinematics import ik_transform\n",
    "from armpi_pro import bus_servo_control\n",
    "from hiwonder_servo_msgs.msg import MultiRawIdPosDur\n",
    "if sys.version_info.major == 2:\n",
    "    print('Please run this program with python3!')\n",
    "    sys.exit(0)\n",
    "ik = ik_transform.ArmIK()"
   ]
  },
  {
   "cell_type": "markdown",
   "metadata": {},
   "source": [
    "## 3. Stop Function\n",
    "*Default position of the robot arm.*"
   ]
  },
  {
   "cell_type": "code",
   "execution_count": null,
   "metadata": {},
   "outputs": [],
   "source": [
    "def stop():\n",
    "    target = ik.setPitchRanges((0.00, 0.12, 0.08), -90, -180, -90)\n",
    "    if target:\n",
    "        servo_data = target[1]\n",
    "        bus_servo_control.set_servos(joints_pub, 1500, ((1, 200), (2, 500), (3, servo_data['servo3']),\n",
    "                        (4, servo_data['servo4']), (5, servo_data['servos']), (6, servo_data['servo6'])))"
   ]
  },
  {
   "cell_type": "markdown",
   "metadata": {},
   "source": [
    "## 4. Main Function\n",
    "*Houses all of the joint angles required to move the robot to perform the water pouring action.*"
   ]
  },
  {
   "cell_type": "code",
   "execution_count": null,
   "metadata": {},
   "outputs": [],
   "source": [
    "if __name__=='__main__':\n",
    "    rospy.init_node('Water_Pouring', log_level=rospy.DEBUG)\n",
    "    rospy.on_shutdown(stop)\n",
    "    joints_pub = rospy.Publisher('/servo_controllers/port_id_1/multi_id_pos_dur', MultiRawIdPosDur, queue_size=1)\n",
    "    rospy.sleep(1.0)\n",
    "    target = ik.setPitchRanges((-0.96, 0.12, 0.24), -180, -0, -90)\n",
    "    if target:\n",
    "        servo_data = target[1]\n",
    "        bus_servo_control.set_servos(joints_pub, 1500, ((1, 100), (2, 1000), (3, servo_data['servo3']),\n",
    "                        (4, servo_data['servo4']), (5, servo_data['servos']), (6, servo_data['servo6'])))\n",
    "    time.sleep(1.0)\n",
    "    target = ik.setPitchRanges((0.0, 0.0, 0.0), -90, 0, -90)\n",
    "    if target:\n",
    "        servo_data = target[1]\n",
    "        bus_servo_control.set_servos(joints_pub, 1500, ((1, 1000), (2, 500), (3, servo_data['servo3']),\n",
    "                        (4, servo_data['servo4']), (5, servo_data['servos']), (6, servo_data['servo6'])))\n",
    "    time.sleep(1.0)"
   ]
  },
  {
   "cell_type": "markdown",
   "metadata": {},
   "source": [
    "## 5. Open claws for accepting water bottle\n",
    "*The proper joint angles are sent to the robot to manipulate the claws to open.*"
   ]
  },
  {
   "cell_type": "code",
   "execution_count": null,
   "metadata": {},
   "outputs": [],
   "source": [
    "target = ik.setPitchRanges((0.0, 0.0, 0.4), -90, 270, -270)\n",
    "if target:\n",
    "    servo_data = target[1]\n",
    "    bus_servo_control.set_servos(joints_pub, 1500, ((1, 0), (2, 500), (3, servo_data['servo3']),\n",
    "                    (4, servo_data['servo4']), (5, servo_data['servos']), (6, servo_data['servo6']))\n",
    "time.sleep(1.0)\n",
    "target = ik.setPitchRanges((0.0, 0.0, 0.4), -90, 0, -270)\n",
    "if target:\n",
    "    servo_data = target[1]\n",
    "    bus_servo_control.set_servos(joints_pub, 1500, ((1, 0), (2, 500), (3, servo_data['servo3']),\n",
    "                    (4, servo_data['servo4']), (5, servo_data['servos']), (6, servo_data['servo6']))\n",
    "time.sleep(3.0)\n",
    "target = ik.setPitchRanges((0.0, 0.12, 0.15), -90, -180, 0)\n",
    "if target:\n",
    "    servo_data = target[1]\n",
    "    bus_servo_control.set_servos(joints_pub, 1500, ((1, 200), (2, 500), (3, servo_data['servo3']),\n",
    "                    (4, servo_data['servo4']), (5, servo_data['servos']), (6, servo_data['servo6']))\n",
    "time.sleep(1.0)\n",
    "target = ik.setPitchRanges((0.0, 0.12, 0.15), -90, -180, 0)\n",
    "if target:\n",
    "    servo_data = target[1]\n",
    "    bus_servo_control.set_servos(joints_pub, 1500, ((1, 1000), (2, 0), (3, servo_data['servo3']),\n",
    "                    (4, servo_data['servo4']), (5, servo_data['servos']), (6, servo_data['servo6']))"
   ]
  },
  {
   "cell_type": "markdown",
   "metadata": {},
   "source": [
    "## 6. Pouring\n",
    "*Bring bottle closer to ground and tilt.*"
   ]
  },
  {
   "cell_type": "code",
   "execution_count": null,
   "metadata": {},
   "outputs": [],
   "source": [
    "time.sleep(1.0)\n",
    "target = ik.setPitchRanges((0.96, 0.12, 0.15), -90, -180, 0)\n",
    "if target:\n",
    "    servo_data = target[1]\n",
    "    bus_servo_control.set_servos(joints_pub, 1500, ((1, 1000), (2, 0), (3, servo_data['servo3']),\n",
    "                    (4, servo_data['servo4']), (5, servo_data['servos']), (6, servo_data['servo6']))\n",
    "time.sleep(1.0)\n",
    "target = ik.setPitchRanges((0.0, 0.96, 0.15), -90, -180, 0)\n",
    "if target:\n",
    "    servo_data = target[1]\n",
    "    bus_servo_control.set_servos(joints_pub, 1500, ((1, 1000), (2, 500), (3, servo_data['servo3']),\n",
    "                    (4, servo_data['servo4']), (5, servo_data['servos']), (6, servo_data['servo6']))\n",
    "time.sleep(1.0)\n",
    "target = ik.setPitchRanges((0.96, 0.12, 0.15), -90, -180, -90)\n",
    "if target:\n",
    "    servo_data = target[1]\n",
    "    bus_servo_control.set_servos(joints_pub, 1500, ((1, 1000), (2, 1000), (3, servo_data['servo3']),\n",
    "                    (4, servo_data['servo4']), (5, servo_data['servos']), (6, servo_data['servo6']))"
   ]
  },
  {
   "cell_type": "markdown",
   "metadata": {},
   "source": [
    "## 7. Return to user\n",
    "*After pouring has completed, bring the bottle upwards towards the user.*"
   ]
  },
  {
   "cell_type": "code",
   "execution_count": null,
   "metadata": {},
   "outputs": [],
   "source": [
    "time.sleep(1.0)\n",
    "target = ik.setPitchRanges((0.96, 0.12, 0.24), -90, -180, -90)\n",
    "if target:\n",
    "    servo_data = target[1]\n",
    "    bus_servo_control.set_servos(joints_pub, 1500, ((1, 1000), (2, 1000), (3, servo_data['servo3']),\n",
    "                    (4, servo_data['servo4']), (5, servo_data['servos']), (6, servo_data['servo6']))\n",
    "time.sleep(1.0)\n",
    "target = ik.setPitchRanges((0.0, 0.12, 0.24), -90, -180, -90)\n",
    "if target:\n",
    "    servo_data = target[1]\n",
    "    bus_servo_control.set_servos(joints_pub, 1500, ((1, 1000), (2, 500), (3, servo_data['servo3']),\n",
    "                    (4, servo_data['servo4']), (5, servo_data['servos']), (6, servo_data['servo6']))\n",
    "time.sleep(1.0)\n",
    "target = ik.setPitchRanges((0.0, 0.96, 0.15), -90, -180, 0)\n",
    "if target:\n",
    "    servo_data = target[1]\n",
    "    bus_servo_control.set_servos(joints_pub, 1500, ((1, 1000), (2, 500), (3, servo_data['servo3']),\n",
    "                    (4, servo_data['servo4']), (5, servo_data['servos']), (6, servo_data['servo6']))\n",
    "time.sleep(1.0)\n",
    "target = ik.setPitchRanges((0.96, 0.12, 0.15), -90, -180, -90)\n",
    "if target:\n",
    "    servo_data = target[1]\n",
    "    bus_servo_control.set_servos(joints_pub, 1500, ((1, 1000), (2, 1000), (3, servo_data['servo3']),\n",
    "                    (4, servo_data['servo4']), (5, servo_data['servos']), (6, servo_data['servo6']))\n",
    "time.sleep(1.0)"
   ]
  },
  {
   "cell_type": "markdown",
   "metadata": {},
   "source": [
    "## 8. Claw Open\n",
    "*Gently release claw to allow user to retrieve bottle.*"
   ]
  },
  {
   "cell_type": "code",
   "execution_count": null,
   "metadata": {},
   "outputs": [],
   "source": [
    "target = ik.setPitchRanges((0.96, 0.12, 0.24), -90, -180, -90)\n",
    "if target:\n",
    "    servo_data = target[1]\n",
    "    bus_servo_control.set_servos(joints_pub, 1500, ((1, 1000), (2, 1000), (3, servo_data['servo3']),\n",
    "                    (4, servo_data['servo4']), (5, servo_data['servos']), (6, servo_data['servo6']))\n",
    "time.sleep(1.0)\n",
    "target = ik.setPitchRanges((0.0, 0.12, 0.24), -90, -180, -90)\n",
    "if target:\n",
    "    servo_data = target[1]\n",
    "    bus_servo_control.set_servos(joints_pub, 1500, ((1, 1000), (2, 500), (3, servo_data['servo3']),\n",
    "                    (4, servo_data['servo4']), (5, servo_data['servos']), (6, servo_data['servo6']))"
   ]
  },
  {
   "cell_type": "markdown",
   "metadata": {},
   "source": [
    "## 9. Default position\n",
    "*Finish steps and go reset joint angles to default positions.*"
   ]
  },
  {
   "cell_type": "code",
   "execution_count": null,
   "metadata": {},
   "outputs": [],
   "source": [
    "time.sleep(1.0)\n",
    "target = ik.setPitchRanges((0.0, 0.12, 0.24), -90, -180, -90)\n",
    "if target:\n",
    "    servo_data = target[1]\n",
    "    bus_servo_control.set_servos(joints_pub, 1500, ((1, 0), (2, 500), (3, servo_data['servo3']),\n",
    "                    (4, servo_data['servo4']), (5, servo_data['servos']), (6, servo_data['servo6']))\n",
    "time.sleep(4.0)"
   ]
  },
  {
   "cell_type": "markdown",
   "metadata": {},
   "source": [
    "## 10. Conclusion\n",
    "*The current results demonstrate the feasibility of using an ARMPI robot controlled by a Raspberry Pi for executing manipulation tasks. The successful movement of joints according to programmed angles confirms that the kinematic models and initial setup are correct. However, further work is needed to refine the system. Future steps include fine-tuning the joint movements for smoother operation, implementing feedback mechanisms for error correction, developing a more user-friendly interface for controlling the robot, enhancing the precision of the pouring action through calibration, extending the functionality for more complex tasks, and experimenting with machine learning algorithms for adaptive control. By addressing these areas, we aim to improve the robot’s performance and reliability, ultimately contributing to the broader field of robotic manipulation.*"
   ]
  }
 ],
 "metadata": {
  "kernelspec": {
   "display_name": "Python 3",
   "language": "python",
   "name": "python3"
  },
  "language_info": {
   "codemirror_mode": {
    "name": "ipython",
    "version": 3
   },
   "file_extension": ".py",
   "mimetype": "text/x-python",
   "name": "python",
   "nbconvert_exporter": "python",
   "pygments_lexer": "ipython3",
   "version": "3.8.5"
  }
 },
 "nbformat": 4,
 "nbformat_minor": 4
}
